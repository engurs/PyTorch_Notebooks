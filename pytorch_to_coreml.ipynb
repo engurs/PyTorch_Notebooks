{
  "nbformat": 4,
  "nbformat_minor": 0,
  "metadata": {
    "colab": {
      "name": "pytorch_to_coreml.ipynb",
      "version": "0.3.2",
      "provenance": [],
      "collapsed_sections": []
    },
    "kernelspec": {
      "name": "python3",
      "display_name": "Python 3"
    }
  },
  "cells": [
    {
      "metadata": {
        "id": "OXJqkT0M1fVd",
        "colab_type": "code",
        "outputId": "2dd06de8-b676-41c7-84fa-7cdec5010470",
        "colab": {
          "base_uri": "https://localhost:8080/",
          "height": 378
        }
      },
      "cell_type": "code",
      "source": [
        "!pip3 install torch torchvision"
      ],
      "execution_count": 1,
      "outputs": [
        {
          "output_type": "stream",
          "text": [
            "Requirement already satisfied: torch in /usr/local/lib/python3.6/dist-packages (1.0.1.post2)\n",
            "Requirement already satisfied: torchvision in /usr/local/lib/python3.6/dist-packages (0.2.1)\n",
            "Collecting pillow>=4.1.1 (from torchvision)\n",
            "\u001b[?25l  Downloading https://files.pythonhosted.org/packages/85/5e/e91792f198bbc5a0d7d3055ad552bc4062942d27eaf75c3e2783cf64eae5/Pillow-5.4.1-cp36-cp36m-manylinux1_x86_64.whl (2.0MB)\n",
            "\u001b[K    100% |████████████████████████████████| 2.0MB 14.7MB/s \n",
            "\u001b[?25hRequirement already satisfied: six in /usr/local/lib/python3.6/dist-packages (from torchvision) (1.11.0)\n",
            "Requirement already satisfied: numpy in /usr/local/lib/python3.6/dist-packages (from torchvision) (1.14.6)\n",
            "\u001b[31mimgaug 0.2.8 has requirement numpy>=1.15.0, but you'll have numpy 1.14.6 which is incompatible.\u001b[0m\n",
            "\u001b[31malbumentations 0.1.12 has requirement imgaug<0.2.7,>=0.2.5, but you'll have imgaug 0.2.8 which is incompatible.\u001b[0m\n",
            "Installing collected packages: pillow\n",
            "  Found existing installation: Pillow 4.0.0\n",
            "    Uninstalling Pillow-4.0.0:\n",
            "      Successfully uninstalled Pillow-4.0.0\n",
            "Successfully installed pillow-5.4.1\n"
          ],
          "name": "stdout"
        },
        {
          "output_type": "display_data",
          "data": {
            "application/vnd.colab-display-data+json": {
              "pip_warning": {
                "packages": [
                  "PIL"
                ]
              }
            }
          },
          "metadata": {
            "tags": []
          }
        }
      ]
    },
    {
      "metadata": {
        "id": "myKT-dGU7lsp",
        "colab_type": "code",
        "outputId": "bf588f8d-59b1-49e7-9beb-9e5fe31a68d4",
        "colab": {
          "base_uri": "https://localhost:8080/",
          "height": 53
        }
      },
      "cell_type": "code",
      "source": [
        "import torch\n",
        "print(torch.__version__)\n",
        "torch.cuda.is_available()\n"
      ],
      "execution_count": 1,
      "outputs": [
        {
          "output_type": "stream",
          "text": [
            "1.0.1.post2\n"
          ],
          "name": "stdout"
        },
        {
          "output_type": "execute_result",
          "data": {
            "text/plain": [
              "True"
            ]
          },
          "metadata": {
            "tags": []
          },
          "execution_count": 1
        }
      ]
    },
    {
      "metadata": {
        "id": "DMkEbVB8CZoh",
        "colab_type": "code",
        "colab": {}
      },
      "cell_type": "code",
      "source": [
        "from torchvision import models\n",
        "from torch.autograd import Variable\n",
        "import torch.onnx as torch_onnx\n"
      ],
      "execution_count": 0,
      "outputs": []
    },
    {
      "metadata": {
        "id": "4UFA1Jbh7zM6",
        "colab_type": "code",
        "outputId": "a86be874-8735-4f31-dc21-f23042873933",
        "colab": {
          "base_uri": "https://localhost:8080/",
          "height": 127
        }
      },
      "cell_type": "code",
      "source": [
        "from google.colab import drive\n",
        "drive.mount('/content/drive')"
      ],
      "execution_count": 3,
      "outputs": [
        {
          "output_type": "stream",
          "text": [
            "Go to this URL in a browser: https://accounts.google.com/o/oauth2/auth?client_id=947318989803-6bn6qk8qdgf4n4g3pfee6491hc0brc4i.apps.googleusercontent.com&redirect_uri=urn%3Aietf%3Awg%3Aoauth%3A2.0%3Aoob&scope=email%20https%3A%2F%2Fwww.googleapis.com%2Fauth%2Fdocs.test%20https%3A%2F%2Fwww.googleapis.com%2Fauth%2Fdrive%20https%3A%2F%2Fwww.googleapis.com%2Fauth%2Fdrive.photos.readonly%20https%3A%2F%2Fwww.googleapis.com%2Fauth%2Fpeopleapi.readonly&response_type=code\n",
            "\n",
            "Enter your authorization code:\n",
            "··········\n",
            "Mounted at /content/drive\n"
          ],
          "name": "stdout"
        }
      ]
    },
    {
      "metadata": {
        "id": "ArqKZDAc7_RT",
        "colab_type": "code",
        "colab": {}
      },
      "cell_type": "code",
      "source": [
        "\n",
        "def load_checkpoint(checkpoint_path):    \n",
        "    \"\"\"\n",
        "        Loads a checkpoint and rebuilds the model\n",
        "        \n",
        "    \"\"\"\n",
        "    \n",
        "    checkpoint = torch.load(checkpoint_path)\n",
        "    \n",
        "    model = models.densenet161()\n",
        "    model.classifier = checkpoint['classifier']\n",
        "    model.load_state_dict(checkpoint['model_state_dict'])\n",
        "    \n",
        "    print(model.classifier)\n",
        "    return model     \n",
        "          "
      ],
      "execution_count": 0,
      "outputs": []
    },
    {
      "metadata": {
        "id": "15Rc5aUDDp_f",
        "colab_type": "code",
        "outputId": "55b4e142-4e7f-4d71-869a-208d577cbdf0",
        "colab": {
          "base_uri": "https://localhost:8080/",
          "height": 91
        }
      },
      "cell_type": "code",
      "source": [
        "model = load_checkpoint('drive/My Drive/Udacity Pytorch/d161_NOlogsoft_9743a.pt')"
      ],
      "execution_count": 5,
      "outputs": [
        {
          "output_type": "stream",
          "text": [
            "/usr/local/lib/python3.6/dist-packages/torchvision/models/densenet.py:212: UserWarning: nn.init.kaiming_normal is now deprecated in favor of nn.init.kaiming_normal_.\n",
            "  nn.init.kaiming_normal(m.weight.data)\n"
          ],
          "name": "stderr"
        },
        {
          "output_type": "stream",
          "text": [
            "Linear(in_features=2208, out_features=102, bias=True)\n"
          ],
          "name": "stdout"
        }
      ]
    },
    {
      "metadata": {
        "id": "fuGnJjLHD9Ys",
        "colab_type": "code",
        "colab": {}
      },
      "cell_type": "code",
      "source": [
        "input_shape = (3, 224, 224)\n",
        "model_onnx_path = \"torch_model.onnx\""
      ],
      "execution_count": 0,
      "outputs": []
    },
    {
      "metadata": {
        "id": "5jT8R0NeFmpe",
        "colab_type": "code",
        "colab": {}
      },
      "cell_type": "code",
      "source": [
        "model = model.cuda()"
      ],
      "execution_count": 0,
      "outputs": []
    },
    {
      "metadata": {
        "id": "UoPE3g4zExiB",
        "colab_type": "code",
        "outputId": "4b3cdd90-d208-4b31-89c6-dcc8264f36be",
        "colab": {
          "base_uri": "https://localhost:8080/",
          "height": 35
        }
      },
      "cell_type": "code",
      "source": [
        "dummy_input = Variable(torch.randn(1, *input_shape)).cuda()\n",
        "output = torch_onnx.export(model, \n",
        "                          dummy_input, \n",
        "                          model_onnx_path, \n",
        "                          verbose=False)\n",
        "print(\"Export of torch_model.onnx complete!\")"
      ],
      "execution_count": 8,
      "outputs": [
        {
          "output_type": "stream",
          "text": [
            "Export of torch_model.onnx complete!\n"
          ],
          "name": "stdout"
        }
      ]
    },
    {
      "metadata": {
        "id": "w8HJADTspUUN",
        "colab_type": "code",
        "colab": {
          "base_uri": "https://localhost:8080/",
          "height": 739
        },
        "outputId": "18c80fdd-0b45-4bf4-b0e2-22ef6452577e"
      },
      "cell_type": "code",
      "source": [
        "!git clone --recursive https://github.com/onnx/onnx-coreml.git"
      ],
      "execution_count": 9,
      "outputs": [
        {
          "output_type": "stream",
          "text": [
            "Cloning into 'onnx-coreml'...\n",
            "remote: Enumerating objects: 71, done.\u001b[K\n",
            "remote: Counting objects: 100% (71/71), done.\u001b[K\n",
            "remote: Compressing objects: 100% (45/45), done.\u001b[K\n",
            "remote: Total 2191 (delta 41), reused 52 (delta 26), pack-reused 2120\u001b[K\n",
            "Receiving objects: 100% (2191/2191), 3.71 MiB | 3.90 MiB/s, done.\n",
            "Resolving deltas: 100% (1173/1173), done.\n",
            "Submodule 'third_party/onnx' (https://github.com/onnx/onnx.git) registered for path 'third_party/onnx'\n",
            "Cloning into '/content/onnx-coreml/third_party/onnx'...\n",
            "remote: Enumerating objects: 30, done.        \n",
            "remote: Counting objects: 100% (30/30), done.        \n",
            "remote: Compressing objects: 100% (29/29), done.        \n",
            "remote: Total 16174 (delta 13), reused 2 (delta 1), pack-reused 16144        \n",
            "Receiving objects: 100% (16174/16174), 8.20 MiB | 6.37 MiB/s, done.\n",
            "Resolving deltas: 100% (8679/8679), done.\n",
            "Submodule path 'third_party/onnx': checked out '5cc146270945f0d007b140fb59a892a60ba69f49'\n",
            "Submodule 'third_party/benchmark' (https://github.com/google/benchmark.git) registered for path 'third_party/onnx/third_party/benchmark'\n",
            "Submodule 'third_party/pybind11' (https://github.com/pybind/pybind11.git) registered for path 'third_party/onnx/third_party/pybind11'\n",
            "Cloning into '/content/onnx-coreml/third_party/onnx/third_party/benchmark'...\n",
            "remote: Enumerating objects: 4970, done.        \n",
            "remote: Total 4970 (delta 0), reused 0 (delta 0), pack-reused 4970        \n",
            "Receiving objects: 100% (4970/4970), 1.56 MiB | 2.08 MiB/s, done.\n",
            "Resolving deltas: 100% (3263/3263), done.\n",
            "Cloning into '/content/onnx-coreml/third_party/onnx/third_party/pybind11'...\n",
            "remote: Enumerating objects: 18, done.        \n",
            "remote: Counting objects: 100% (18/18), done.        \n",
            "remote: Compressing objects: 100% (13/13), done.        \n",
            "remote: Total 10522 (delta 4), reused 10 (delta 4), pack-reused 10504        \n",
            "Receiving objects: 100% (10522/10522), 3.87 MiB | 4.00 MiB/s, done.\n",
            "Resolving deltas: 100% (7102/7102), done.\n",
            "Submodule path 'third_party/onnx/third_party/benchmark': checked out 'e776aa0275e293707b6a0901e0e8d8a8a3679508'\n",
            "Submodule path 'third_party/onnx/third_party/pybind11': checked out 'a1041190c8b8ff0cd9e2f0752248ad5e3789ea0c'\n",
            "Submodule 'tools/clang' (https://github.com/wjakob/clang-cindex-python3) registered for path 'third_party/onnx/third_party/pybind11/tools/clang'\n",
            "Cloning into '/content/onnx-coreml/third_party/onnx/third_party/pybind11/tools/clang'...\n",
            "remote: Enumerating objects: 353, done.        \n",
            "remote: Total 353 (delta 0), reused 0 (delta 0), pack-reused 353        \n",
            "Receiving objects: 100% (353/353), 119.74 KiB | 331.00 KiB/s, done.\n",
            "Resolving deltas: 100% (149/149), done.\n",
            "Submodule path 'third_party/onnx/third_party/pybind11/tools/clang': checked out '6a00cbc4a9b8e68b71caf7f774b3f9c753ae84d5'\n"
          ],
          "name": "stdout"
        }
      ]
    },
    {
      "metadata": {
        "id": "UHoFGqItpaII",
        "colab_type": "code",
        "colab": {
          "base_uri": "https://localhost:8080/",
          "height": 35
        },
        "outputId": "75e377a2-f6e0-4eee-a6e4-124ab4004a88"
      },
      "cell_type": "code",
      "source": [
        "cd onnx-coreml"
      ],
      "execution_count": 12,
      "outputs": [
        {
          "output_type": "stream",
          "text": [
            "/content/onnx-coreml\n"
          ],
          "name": "stdout"
        }
      ]
    },
    {
      "metadata": {
        "id": "C6MvdXGdpeE4",
        "colab_type": "code",
        "colab": {
          "base_uri": "https://localhost:8080/",
          "height": 35
        },
        "outputId": "e39b48f0-9858-4e39-92c7-27d0cb238598"
      },
      "cell_type": "code",
      "source": [
        "pwd"
      ],
      "execution_count": 13,
      "outputs": [
        {
          "output_type": "execute_result",
          "data": {
            "text/plain": [
              "'/content/onnx-coreml'"
            ]
          },
          "metadata": {
            "tags": []
          },
          "execution_count": 13
        }
      ]
    },
    {
      "metadata": {
        "id": "oySMgoipuVrZ",
        "colab_type": "code",
        "colab": {
          "base_uri": "https://localhost:8080/",
          "height": 415
        },
        "outputId": "58505e7f-77b7-4ade-c606-9a4f79fcd392"
      },
      "cell_type": "code",
      "source": [
        "!pip install torchvision onnx-coreml"
      ],
      "execution_count": 31,
      "outputs": [
        {
          "output_type": "stream",
          "text": [
            "Requirement already satisfied: torchvision in /usr/local/lib/python3.6/dist-packages (0.2.1)\n",
            "Collecting onnx-coreml\n",
            "\u001b[?25l  Downloading https://files.pythonhosted.org/packages/9f/69/373d383c797bec4b591a3f5e350d533068c74fd799391be02c04088731bb/onnx_coreml-0.3.0-py3-none-any.whl (51kB)\n",
            "\u001b[K    100% |████████████████████████████████| 51kB 2.0MB/s \n",
            "\u001b[?25hRequirement already satisfied: numpy in /usr/local/lib/python3.6/dist-packages (from torchvision) (1.14.6)\n",
            "Requirement already satisfied: six in /usr/local/lib/python3.6/dist-packages (from torchvision) (1.11.0)\n",
            "Requirement already satisfied: torch in /usr/local/lib/python3.6/dist-packages (from torchvision) (1.0.1.post2)\n",
            "Requirement already satisfied: pillow>=4.1.1 in /usr/local/lib/python3.6/dist-packages (from torchvision) (5.4.1)\n",
            "Collecting coremltools>=2.0 (from onnx-coreml)\n",
            "\u001b[?25l  Downloading https://files.pythonhosted.org/packages/b9/9d/7ec5a2480c6afce4fcb99de1650b7abfd1457b2ef1de5ce39bf7bee8a8ae/coremltools-2.1.0-cp36-none-manylinux1_x86_64.whl (2.7MB)\n",
            "\u001b[K    100% |████████████████████████████████| 2.7MB 13.5MB/s \n",
            "\u001b[?25hCollecting onnx>=1.3.0 (from onnx-coreml)\n",
            "\u001b[?25l  Downloading https://files.pythonhosted.org/packages/99/26/753bca1bc4e7e254d34da82f5b2e213ca9b32cbeb2d9e305fec4abcfebf7/onnx-1.4.1-cp36-cp36m-manylinux1_x86_64.whl (6.9MB)\n",
            "\u001b[K    100% |████████████████████████████████| 6.9MB 6.5MB/s \n",
            "\u001b[?25hRequirement already satisfied: typing-extensions>=3.6.2.1 in /usr/local/lib/python3.6/dist-packages (from onnx-coreml) (3.7.2)\n",
            "Requirement already satisfied: typing>=3.6.4 in /usr/local/lib/python3.6/dist-packages (from onnx-coreml) (3.6.6)\n",
            "Requirement already satisfied: click in /usr/local/lib/python3.6/dist-packages (from onnx-coreml) (7.0)\n",
            "Requirement already satisfied: protobuf>=3.1.0 in /usr/local/lib/python3.6/dist-packages (from coremltools>=2.0->onnx-coreml) (3.6.1)\n",
            "Requirement already satisfied: setuptools in /usr/local/lib/python3.6/dist-packages (from protobuf>=3.1.0->coremltools>=2.0->onnx-coreml) (40.8.0)\n",
            "Installing collected packages: coremltools, onnx, onnx-coreml\n",
            "Successfully installed coremltools-2.1.0 onnx-1.4.1 onnx-coreml-0.3.0\n"
          ],
          "name": "stdout"
        }
      ]
    },
    {
      "metadata": {
        "id": "w4xgDyVbpmie",
        "colab_type": "code",
        "colab": {
          "base_uri": "https://localhost:8080/",
          "height": 1297
        },
        "outputId": "e246fa68-985a-4e13-ed40-8b1aaa1ad717"
      },
      "cell_type": "code",
      "source": [
        "!./install.sh "
      ],
      "execution_count": 32,
      "outputs": [
        {
          "output_type": "stream",
          "text": [
            "++ python -c 'import os; import sys; print(os.path.realpath(sys.argv[1]))' ./install.sh\n",
            "+ script_path=/content/onnx-coreml/install.sh\n",
            "++ dirname /content/onnx-coreml/install.sh\n",
            "+ top_dir=/content/onnx-coreml\n",
            "+ REPOS_DIR=/content/onnx-coreml/third_party\n",
            "+ BUILD_DIR=/content/onnx-coreml/build\n",
            "+ _check_submodule_present onnx\n",
            "+ '[' '!' -f /content/onnx-coreml/third_party/onnx/setup.py ']'\n",
            "+ _check_compilers_use_ccache\n",
            "+ COMPILERS_WITHOUT_CCACHE=\n",
            "+ for compiler in gcc g++ cc c++\n",
            "++ which gcc\n",
            "+ grep ccache\n",
            "+ readlink /usr/bin/gcc\n",
            "+ COMPILERS_WITHOUT_CCACHE=' gcc'\n",
            "+ for compiler in gcc g++ cc c++\n",
            "++ which g++\n",
            "+ grep ccache\n",
            "+ readlink /usr/bin/g++\n",
            "+ COMPILERS_WITHOUT_CCACHE=' gcc g++'\n",
            "+ for compiler in gcc g++ cc c++\n",
            "+ grep ccache\n",
            "++ which cc\n",
            "+ readlink /usr/bin/cc\n",
            "+ COMPILERS_WITHOUT_CCACHE=' gcc g++ cc'\n",
            "+ for compiler in gcc g++ cc c++\n",
            "+ grep ccache\n",
            "++ which c++\n",
            "+ readlink /usr/bin/c++\n",
            "+ COMPILERS_WITHOUT_CCACHE=' gcc g++ cc c++'\n",
            "+ '[' ' gcc g++ cc c++' '!=' '' ']'\n",
            "+ echo Warning: Compilers not set up for ccache: gcc g++ cc c++. Incremental builds will be slow.\n",
            "Warning: Compilers not set up for ccache: gcc g++ cc c++. Incremental builds will be slow.\n",
            "+ mkdir -p /content/onnx-coreml/build\n",
            "+ _pip_install -b /content/onnx-coreml/build/onnx file:///content/onnx-coreml/third_party/onnx#egg=onnx\n",
            "+ [[ -n '' ]]\n",
            "+ [[ -n '' ]]\n",
            "+ pip install -b /content/onnx-coreml/build/onnx file:///content/onnx-coreml/third_party/onnx#egg=onnx\n",
            "Requirement already satisfied: onnx from file:///content/onnx-coreml/third_party/onnx#egg=onnx in /usr/local/lib/python3.6/dist-packages (1.4.1)\n",
            "Requirement already satisfied: typing-extensions>=3.6.2.1 in /usr/local/lib/python3.6/dist-packages (from onnx) (3.7.2)\n",
            "Requirement already satisfied: typing>=3.6.4 in /usr/local/lib/python3.6/dist-packages (from onnx) (3.6.6)\n",
            "Requirement already satisfied: six in /usr/local/lib/python3.6/dist-packages (from onnx) (1.11.0)\n",
            "Requirement already satisfied: numpy in /usr/local/lib/python3.6/dist-packages (from onnx) (1.14.6)\n",
            "Requirement already satisfied: protobuf in /usr/local/lib/python3.6/dist-packages (from onnx) (3.6.1)\n",
            "Requirement already satisfied: setuptools in /usr/local/lib/python3.6/dist-packages (from protobuf->onnx) (40.8.0)\n",
            "+ [[ -n '' ]]\n",
            "+ _pip_install .\n",
            "+ [[ -n '' ]]\n",
            "+ [[ -n '' ]]\n",
            "+ pip install .\n",
            "Processing /content/onnx-coreml\n",
            "Requirement already satisfied: click in /usr/local/lib/python3.6/dist-packages (from onnx-coreml==0.3.0) (7.0)\n",
            "Requirement already satisfied: numpy in /usr/local/lib/python3.6/dist-packages (from onnx-coreml==0.3.0) (1.14.6)\n",
            "Requirement already satisfied: onnx>=1.3.0 in /usr/local/lib/python3.6/dist-packages (from onnx-coreml==0.3.0) (1.4.1)\n",
            "Requirement already satisfied: typing>=3.6.4 in /usr/local/lib/python3.6/dist-packages (from onnx-coreml==0.3.0) (3.6.6)\n",
            "Requirement already satisfied: typing-extensions>=3.6.2.1 in /usr/local/lib/python3.6/dist-packages (from onnx-coreml==0.3.0) (3.7.2)\n",
            "Requirement already satisfied: coremltools>=2.0 in /usr/local/lib/python3.6/dist-packages (from onnx-coreml==0.3.0) (2.1.0)\n",
            "Requirement already satisfied: six in /usr/local/lib/python3.6/dist-packages (from onnx>=1.3.0->onnx-coreml==0.3.0) (1.11.0)\n",
            "Requirement already satisfied: protobuf in /usr/local/lib/python3.6/dist-packages (from onnx>=1.3.0->onnx-coreml==0.3.0) (3.6.1)\n",
            "Requirement already satisfied: setuptools in /usr/local/lib/python3.6/dist-packages (from protobuf->onnx>=1.3.0->onnx-coreml==0.3.0) (40.8.0)\n",
            "Building wheels for collected packages: onnx-coreml\n",
            "  Building wheel for onnx-coreml (setup.py) ... \u001b[?25ldone\n",
            "\u001b[?25h  Stored in directory: /root/.cache/pip/wheels/58/cc/bf/07095da3411ea67f739c72ec69bc8c83794f8d40fe9e250973\n",
            "Successfully built onnx-coreml\n",
            "Installing collected packages: onnx-coreml\n",
            "  Found existing installation: onnx-coreml 0.3.0\n",
            "    Uninstalling onnx-coreml-0.3.0:\n",
            "      Successfully uninstalled onnx-coreml-0.3.0\n",
            "Successfully installed onnx-coreml-0.3.0\n",
            "+ [[ -n '' ]]\n"
          ],
          "name": "stdout"
        }
      ]
    },
    {
      "metadata": {
        "id": "AMigabzLFAYz",
        "colab_type": "code",
        "outputId": "7d7290d1-9884-4a88-a99d-39be7fe88966",
        "colab": {
          "base_uri": "https://localhost:8080/",
          "height": 35
        }
      },
      "cell_type": "code",
      "source": [
        "from onnx_coreml import convert"
      ],
      "execution_count": 33,
      "outputs": [
        {
          "output_type": "stream",
          "text": [
            "WARNING:root:TensorFlow version 1.13.0-rc1 detected. Last version known to be fully compatible is 1.12.0 .\n"
          ],
          "name": "stderr"
        }
      ]
    },
    {
      "metadata": {
        "id": "oY2edUpIGhhR",
        "colab_type": "code",
        "colab": {}
      },
      "cell_type": "code",
      "source": [
        "\"\"\"def convert(model,\n",
        "            mode=None,\n",
        "            image_input_names=[],\n",
        "            preprocessing_args={},\n",
        "            image_output_names=[],\n",
        "            deprocessing_args={},\n",
        "            class_labels=None,\n",
        "            predicted_feature_name='classLabel',\n",
        "            add_custom_layers = False,\n",
        "            custom_conversion_functions = {}):\"\"\""
      ],
      "execution_count": 0,
      "outputs": []
    },
    {
      "metadata": {
        "id": "u_klwY3O0CH3",
        "colab_type": "code",
        "colab": {
          "base_uri": "https://localhost:8080/",
          "height": 35
        },
        "outputId": "21200df6-b457-4032-e8e3-837f0245693b"
      },
      "cell_type": "code",
      "source": [
        "cd .."
      ],
      "execution_count": 36,
      "outputs": [
        {
          "output_type": "stream",
          "text": [
            "/content\n"
          ],
          "name": "stdout"
        }
      ]
    },
    {
      "metadata": {
        "id": "FnrnHEqvJCig",
        "colab_type": "code",
        "colab": {}
      },
      "cell_type": "code",
      "source": [
        "onnx_model = 'torch_model.onnx' #torch_model.onnx"
      ],
      "execution_count": 0,
      "outputs": []
    },
    {
      "metadata": {
        "id": "_kXpGxlOInMq",
        "colab_type": "code",
        "outputId": "1c0bd134-4bc3-4fa6-f36d-0b38a901aa82",
        "colab": {
          "base_uri": "https://localhost:8080/",
          "height": 10331
        }
      },
      "cell_type": "code",
      "source": [
        "mlmodel = convert(onnx_model)\n",
        "mlmodel.save('drive/My Drive/Udacity Pytorch/coreml_model.mlmodel')"
      ],
      "execution_count": 39,
      "outputs": [
        {
          "output_type": "stream",
          "text": [
            "1/571: Converting Node Type Conv\n",
            "2/571: Converting Node Type BatchNormalization\n",
            "3/571: Converting Node Type Relu\n",
            "4/571: Converting Node Type MaxPool\n",
            "5/571: Converting Node Type BatchNormalization\n",
            "6/571: Converting Node Type Relu\n",
            "7/571: Converting Node Type Conv\n",
            "8/571: Converting Node Type BatchNormalization\n",
            "9/571: Converting Node Type Relu\n",
            "10/571: Converting Node Type Conv\n",
            "11/571: Converting Node Type Concat\n",
            "12/571: Converting Node Type BatchNormalization\n",
            "13/571: Converting Node Type Relu\n",
            "14/571: Converting Node Type Conv\n",
            "15/571: Converting Node Type BatchNormalization\n",
            "16/571: Converting Node Type Relu\n",
            "17/571: Converting Node Type Conv\n",
            "18/571: Converting Node Type Concat\n",
            "19/571: Converting Node Type BatchNormalization\n",
            "20/571: Converting Node Type Relu\n",
            "21/571: Converting Node Type Conv\n",
            "22/571: Converting Node Type BatchNormalization\n",
            "23/571: Converting Node Type Relu\n",
            "24/571: Converting Node Type Conv\n",
            "25/571: Converting Node Type Concat\n",
            "26/571: Converting Node Type BatchNormalization\n",
            "27/571: Converting Node Type Relu\n",
            "28/571: Converting Node Type Conv\n",
            "29/571: Converting Node Type BatchNormalization\n",
            "30/571: Converting Node Type Relu\n",
            "31/571: Converting Node Type Conv\n",
            "32/571: Converting Node Type Concat\n",
            "33/571: Converting Node Type BatchNormalization\n",
            "34/571: Converting Node Type Relu\n",
            "35/571: Converting Node Type Conv\n",
            "36/571: Converting Node Type BatchNormalization\n",
            "37/571: Converting Node Type Relu\n",
            "38/571: Converting Node Type Conv\n",
            "39/571: Converting Node Type Concat\n",
            "40/571: Converting Node Type BatchNormalization\n",
            "41/571: Converting Node Type Relu\n",
            "42/571: Converting Node Type Conv\n",
            "43/571: Converting Node Type BatchNormalization\n",
            "44/571: Converting Node Type Relu\n",
            "45/571: Converting Node Type Conv\n",
            "46/571: Converting Node Type Concat\n",
            "47/571: Converting Node Type BatchNormalization\n",
            "48/571: Converting Node Type Relu\n",
            "49/571: Converting Node Type Conv\n",
            "50/571: Converting Node Type Pad\n",
            "51/571: Converting Node Type AveragePool\n",
            "52/571: Converting Node Type BatchNormalization\n",
            "53/571: Converting Node Type Relu\n",
            "54/571: Converting Node Type Conv\n",
            "55/571: Converting Node Type BatchNormalization\n",
            "56/571: Converting Node Type Relu\n",
            "57/571: Converting Node Type Conv\n",
            "58/571: Converting Node Type Concat\n",
            "59/571: Converting Node Type BatchNormalization\n",
            "60/571: Converting Node Type Relu\n",
            "61/571: Converting Node Type Conv\n",
            "62/571: Converting Node Type BatchNormalization\n",
            "63/571: Converting Node Type Relu\n",
            "64/571: Converting Node Type Conv\n",
            "65/571: Converting Node Type Concat\n",
            "66/571: Converting Node Type BatchNormalization\n",
            "67/571: Converting Node Type Relu\n",
            "68/571: Converting Node Type Conv\n",
            "69/571: Converting Node Type BatchNormalization\n",
            "70/571: Converting Node Type Relu\n",
            "71/571: Converting Node Type Conv\n",
            "72/571: Converting Node Type Concat\n",
            "73/571: Converting Node Type BatchNormalization\n",
            "74/571: Converting Node Type Relu\n",
            "75/571: Converting Node Type Conv\n",
            "76/571: Converting Node Type BatchNormalization\n",
            "77/571: Converting Node Type Relu\n",
            "78/571: Converting Node Type Conv\n",
            "79/571: Converting Node Type Concat\n",
            "80/571: Converting Node Type BatchNormalization\n",
            "81/571: Converting Node Type Relu\n",
            "82/571: Converting Node Type Conv\n",
            "83/571: Converting Node Type BatchNormalization\n",
            "84/571: Converting Node Type Relu\n",
            "85/571: Converting Node Type Conv\n",
            "86/571: Converting Node Type Concat\n",
            "87/571: Converting Node Type BatchNormalization\n",
            "88/571: Converting Node Type Relu\n",
            "89/571: Converting Node Type Conv\n",
            "90/571: Converting Node Type BatchNormalization\n",
            "91/571: Converting Node Type Relu\n",
            "92/571: Converting Node Type Conv\n",
            "93/571: Converting Node Type Concat\n",
            "94/571: Converting Node Type BatchNormalization\n",
            "95/571: Converting Node Type Relu\n",
            "96/571: Converting Node Type Conv\n",
            "97/571: Converting Node Type BatchNormalization\n",
            "98/571: Converting Node Type Relu\n",
            "99/571: Converting Node Type Conv\n",
            "100/571: Converting Node Type Concat\n",
            "101/571: Converting Node Type BatchNormalization\n",
            "102/571: Converting Node Type Relu\n",
            "103/571: Converting Node Type Conv\n",
            "104/571: Converting Node Type BatchNormalization\n",
            "105/571: Converting Node Type Relu\n",
            "106/571: Converting Node Type Conv\n",
            "107/571: Converting Node Type Concat\n",
            "108/571: Converting Node Type BatchNormalization\n",
            "109/571: Converting Node Type Relu\n",
            "110/571: Converting Node Type Conv\n",
            "111/571: Converting Node Type BatchNormalization\n",
            "112/571: Converting Node Type Relu\n",
            "113/571: Converting Node Type Conv\n",
            "114/571: Converting Node Type Concat\n",
            "115/571: Converting Node Type BatchNormalization\n",
            "116/571: Converting Node Type Relu\n",
            "117/571: Converting Node Type Conv\n",
            "118/571: Converting Node Type BatchNormalization\n",
            "119/571: Converting Node Type Relu\n",
            "120/571: Converting Node Type Conv\n",
            "121/571: Converting Node Type Concat\n",
            "122/571: Converting Node Type BatchNormalization\n",
            "123/571: Converting Node Type Relu\n",
            "124/571: Converting Node Type Conv\n",
            "125/571: Converting Node Type BatchNormalization\n",
            "126/571: Converting Node Type Relu\n",
            "127/571: Converting Node Type Conv\n",
            "128/571: Converting Node Type Concat\n",
            "129/571: Converting Node Type BatchNormalization\n",
            "130/571: Converting Node Type Relu\n",
            "131/571: Converting Node Type Conv\n",
            "132/571: Converting Node Type BatchNormalization\n",
            "133/571: Converting Node Type Relu\n",
            "134/571: Converting Node Type Conv\n",
            "135/571: Converting Node Type Concat\n",
            "136/571: Converting Node Type BatchNormalization\n",
            "137/571: Converting Node Type Relu\n",
            "138/571: Converting Node Type Conv\n",
            "139/571: Converting Node Type Pad\n",
            "140/571: Converting Node Type AveragePool\n",
            "141/571: Converting Node Type BatchNormalization\n",
            "142/571: Converting Node Type Relu\n",
            "143/571: Converting Node Type Conv\n",
            "144/571: Converting Node Type BatchNormalization\n",
            "145/571: Converting Node Type Relu\n",
            "146/571: Converting Node Type Conv\n",
            "147/571: Converting Node Type Concat\n",
            "148/571: Converting Node Type BatchNormalization\n",
            "149/571: Converting Node Type Relu\n",
            "150/571: Converting Node Type Conv\n",
            "151/571: Converting Node Type BatchNormalization\n",
            "152/571: Converting Node Type Relu\n",
            "153/571: Converting Node Type Conv\n",
            "154/571: Converting Node Type Concat\n",
            "155/571: Converting Node Type BatchNormalization\n",
            "156/571: Converting Node Type Relu\n",
            "157/571: Converting Node Type Conv\n",
            "158/571: Converting Node Type BatchNormalization\n",
            "159/571: Converting Node Type Relu\n",
            "160/571: Converting Node Type Conv\n",
            "161/571: Converting Node Type Concat\n",
            "162/571: Converting Node Type BatchNormalization\n",
            "163/571: Converting Node Type Relu\n",
            "164/571: Converting Node Type Conv\n",
            "165/571: Converting Node Type BatchNormalization\n",
            "166/571: Converting Node Type Relu\n",
            "167/571: Converting Node Type Conv\n",
            "168/571: Converting Node Type Concat\n",
            "169/571: Converting Node Type BatchNormalization\n",
            "170/571: Converting Node Type Relu\n",
            "171/571: Converting Node Type Conv\n",
            "172/571: Converting Node Type BatchNormalization\n",
            "173/571: Converting Node Type Relu\n",
            "174/571: Converting Node Type Conv\n",
            "175/571: Converting Node Type Concat\n",
            "176/571: Converting Node Type BatchNormalization\n",
            "177/571: Converting Node Type Relu\n",
            "178/571: Converting Node Type Conv\n",
            "179/571: Converting Node Type BatchNormalization\n",
            "180/571: Converting Node Type Relu\n",
            "181/571: Converting Node Type Conv\n",
            "182/571: Converting Node Type Concat\n",
            "183/571: Converting Node Type BatchNormalization\n",
            "184/571: Converting Node Type Relu\n",
            "185/571: Converting Node Type Conv\n",
            "186/571: Converting Node Type BatchNormalization\n",
            "187/571: Converting Node Type Relu\n",
            "188/571: Converting Node Type Conv\n",
            "189/571: Converting Node Type Concat\n",
            "190/571: Converting Node Type BatchNormalization\n",
            "191/571: Converting Node Type Relu\n",
            "192/571: Converting Node Type Conv\n",
            "193/571: Converting Node Type BatchNormalization\n",
            "194/571: Converting Node Type Relu\n",
            "195/571: Converting Node Type Conv\n",
            "196/571: Converting Node Type Concat\n",
            "197/571: Converting Node Type BatchNormalization\n",
            "198/571: Converting Node Type Relu\n",
            "199/571: Converting Node Type Conv\n",
            "200/571: Converting Node Type BatchNormalization\n",
            "201/571: Converting Node Type Relu\n",
            "202/571: Converting Node Type Conv\n",
            "203/571: Converting Node Type Concat\n",
            "204/571: Converting Node Type BatchNormalization\n",
            "205/571: Converting Node Type Relu\n",
            "206/571: Converting Node Type Conv\n",
            "207/571: Converting Node Type BatchNormalization\n",
            "208/571: Converting Node Type Relu\n",
            "209/571: Converting Node Type Conv\n",
            "210/571: Converting Node Type Concat\n",
            "211/571: Converting Node Type BatchNormalization\n",
            "212/571: Converting Node Type Relu\n",
            "213/571: Converting Node Type Conv\n",
            "214/571: Converting Node Type BatchNormalization\n",
            "215/571: Converting Node Type Relu\n",
            "216/571: Converting Node Type Conv\n",
            "217/571: Converting Node Type Concat\n",
            "218/571: Converting Node Type BatchNormalization\n",
            "219/571: Converting Node Type Relu\n",
            "220/571: Converting Node Type Conv\n",
            "221/571: Converting Node Type BatchNormalization\n",
            "222/571: Converting Node Type Relu\n",
            "223/571: Converting Node Type Conv\n",
            "224/571: Converting Node Type Concat\n",
            "225/571: Converting Node Type BatchNormalization\n",
            "226/571: Converting Node Type Relu\n",
            "227/571: Converting Node Type Conv\n",
            "228/571: Converting Node Type BatchNormalization\n",
            "229/571: Converting Node Type Relu\n",
            "230/571: Converting Node Type Conv\n",
            "231/571: Converting Node Type Concat\n",
            "232/571: Converting Node Type BatchNormalization\n",
            "233/571: Converting Node Type Relu\n",
            "234/571: Converting Node Type Conv\n",
            "235/571: Converting Node Type BatchNormalization\n",
            "236/571: Converting Node Type Relu\n",
            "237/571: Converting Node Type Conv\n",
            "238/571: Converting Node Type Concat\n",
            "239/571: Converting Node Type BatchNormalization\n",
            "240/571: Converting Node Type Relu\n",
            "241/571: Converting Node Type Conv\n",
            "242/571: Converting Node Type BatchNormalization\n",
            "243/571: Converting Node Type Relu\n",
            "244/571: Converting Node Type Conv\n",
            "245/571: Converting Node Type Concat\n",
            "246/571: Converting Node Type BatchNormalization\n",
            "247/571: Converting Node Type Relu\n",
            "248/571: Converting Node Type Conv\n",
            "249/571: Converting Node Type BatchNormalization\n",
            "250/571: Converting Node Type Relu\n",
            "251/571: Converting Node Type Conv\n",
            "252/571: Converting Node Type Concat\n",
            "253/571: Converting Node Type BatchNormalization\n",
            "254/571: Converting Node Type Relu\n",
            "255/571: Converting Node Type Conv\n",
            "256/571: Converting Node Type BatchNormalization\n",
            "257/571: Converting Node Type Relu\n",
            "258/571: Converting Node Type Conv\n",
            "259/571: Converting Node Type Concat\n",
            "260/571: Converting Node Type BatchNormalization\n",
            "261/571: Converting Node Type Relu\n",
            "262/571: Converting Node Type Conv\n",
            "263/571: Converting Node Type BatchNormalization\n",
            "264/571: Converting Node Type Relu\n",
            "265/571: Converting Node Type Conv\n",
            "266/571: Converting Node Type Concat\n",
            "267/571: Converting Node Type BatchNormalization\n",
            "268/571: Converting Node Type Relu\n",
            "269/571: Converting Node Type Conv\n",
            "270/571: Converting Node Type BatchNormalization\n",
            "271/571: Converting Node Type Relu\n",
            "272/571: Converting Node Type Conv\n",
            "273/571: Converting Node Type Concat\n",
            "274/571: Converting Node Type BatchNormalization\n",
            "275/571: Converting Node Type Relu\n",
            "276/571: Converting Node Type Conv\n",
            "277/571: Converting Node Type BatchNormalization\n",
            "278/571: Converting Node Type Relu\n",
            "279/571: Converting Node Type Conv\n",
            "280/571: Converting Node Type Concat\n",
            "281/571: Converting Node Type BatchNormalization\n",
            "282/571: Converting Node Type Relu\n",
            "283/571: Converting Node Type Conv\n",
            "284/571: Converting Node Type BatchNormalization\n",
            "285/571: Converting Node Type Relu\n",
            "286/571: Converting Node Type Conv\n",
            "287/571: Converting Node Type Concat\n",
            "288/571: Converting Node Type BatchNormalization\n",
            "289/571: Converting Node Type Relu\n",
            "290/571: Converting Node Type Conv\n",
            "291/571: Converting Node Type BatchNormalization\n",
            "292/571: Converting Node Type Relu\n",
            "293/571: Converting Node Type Conv\n",
            "294/571: Converting Node Type Concat\n",
            "295/571: Converting Node Type BatchNormalization\n",
            "296/571: Converting Node Type Relu\n",
            "297/571: Converting Node Type Conv\n",
            "298/571: Converting Node Type BatchNormalization\n",
            "299/571: Converting Node Type Relu\n",
            "300/571: Converting Node Type Conv\n",
            "301/571: Converting Node Type Concat\n",
            "302/571: Converting Node Type BatchNormalization\n",
            "303/571: Converting Node Type Relu\n",
            "304/571: Converting Node Type Conv\n",
            "305/571: Converting Node Type BatchNormalization\n",
            "306/571: Converting Node Type Relu\n",
            "307/571: Converting Node Type Conv\n",
            "308/571: Converting Node Type Concat\n",
            "309/571: Converting Node Type BatchNormalization\n",
            "310/571: Converting Node Type Relu\n",
            "311/571: Converting Node Type Conv\n",
            "312/571: Converting Node Type BatchNormalization\n",
            "313/571: Converting Node Type Relu\n",
            "314/571: Converting Node Type Conv\n",
            "315/571: Converting Node Type Concat\n",
            "316/571: Converting Node Type BatchNormalization\n",
            "317/571: Converting Node Type Relu\n",
            "318/571: Converting Node Type Conv\n",
            "319/571: Converting Node Type BatchNormalization\n",
            "320/571: Converting Node Type Relu\n",
            "321/571: Converting Node Type Conv\n",
            "322/571: Converting Node Type Concat\n",
            "323/571: Converting Node Type BatchNormalization\n",
            "324/571: Converting Node Type Relu\n",
            "325/571: Converting Node Type Conv\n",
            "326/571: Converting Node Type BatchNormalization\n",
            "327/571: Converting Node Type Relu\n",
            "328/571: Converting Node Type Conv\n",
            "329/571: Converting Node Type Concat\n",
            "330/571: Converting Node Type BatchNormalization\n",
            "331/571: Converting Node Type Relu\n",
            "332/571: Converting Node Type Conv\n",
            "333/571: Converting Node Type BatchNormalization\n",
            "334/571: Converting Node Type Relu\n",
            "335/571: Converting Node Type Conv\n",
            "336/571: Converting Node Type Concat\n",
            "337/571: Converting Node Type BatchNormalization\n",
            "338/571: Converting Node Type Relu\n",
            "339/571: Converting Node Type Conv\n",
            "340/571: Converting Node Type BatchNormalization\n",
            "341/571: Converting Node Type Relu\n",
            "342/571: Converting Node Type Conv\n",
            "343/571: Converting Node Type Concat\n",
            "344/571: Converting Node Type BatchNormalization\n",
            "345/571: Converting Node Type Relu\n",
            "346/571: Converting Node Type Conv\n",
            "347/571: Converting Node Type BatchNormalization\n",
            "348/571: Converting Node Type Relu\n",
            "349/571: Converting Node Type Conv\n",
            "350/571: Converting Node Type Concat\n",
            "351/571: Converting Node Type BatchNormalization\n",
            "352/571: Converting Node Type Relu\n",
            "353/571: Converting Node Type Conv\n",
            "354/571: Converting Node Type BatchNormalization\n",
            "355/571: Converting Node Type Relu\n",
            "356/571: Converting Node Type Conv\n",
            "357/571: Converting Node Type Concat\n",
            "358/571: Converting Node Type BatchNormalization\n",
            "359/571: Converting Node Type Relu\n",
            "360/571: Converting Node Type Conv\n",
            "361/571: Converting Node Type BatchNormalization\n",
            "362/571: Converting Node Type Relu\n",
            "363/571: Converting Node Type Conv\n",
            "364/571: Converting Node Type Concat\n",
            "365/571: Converting Node Type BatchNormalization\n",
            "366/571: Converting Node Type Relu\n",
            "367/571: Converting Node Type Conv\n",
            "368/571: Converting Node Type BatchNormalization\n",
            "369/571: Converting Node Type Relu\n",
            "370/571: Converting Node Type Conv\n",
            "371/571: Converting Node Type Concat\n",
            "372/571: Converting Node Type BatchNormalization\n",
            "373/571: Converting Node Type Relu\n",
            "374/571: Converting Node Type Conv\n",
            "375/571: Converting Node Type BatchNormalization\n",
            "376/571: Converting Node Type Relu\n",
            "377/571: Converting Node Type Conv\n",
            "378/571: Converting Node Type Concat\n",
            "379/571: Converting Node Type BatchNormalization\n",
            "380/571: Converting Node Type Relu\n",
            "381/571: Converting Node Type Conv\n",
            "382/571: Converting Node Type BatchNormalization\n",
            "383/571: Converting Node Type Relu\n",
            "384/571: Converting Node Type Conv\n",
            "385/571: Converting Node Type Concat\n",
            "386/571: Converting Node Type BatchNormalization\n",
            "387/571: Converting Node Type Relu\n",
            "388/571: Converting Node Type Conv\n",
            "389/571: Converting Node Type BatchNormalization\n",
            "390/571: Converting Node Type Relu\n",
            "391/571: Converting Node Type Conv\n",
            "392/571: Converting Node Type Concat\n",
            "393/571: Converting Node Type BatchNormalization\n",
            "394/571: Converting Node Type Relu\n",
            "395/571: Converting Node Type Conv\n",
            "396/571: Converting Node Type Pad\n",
            "397/571: Converting Node Type AveragePool\n",
            "398/571: Converting Node Type BatchNormalization\n",
            "399/571: Converting Node Type Relu\n",
            "400/571: Converting Node Type Conv\n",
            "401/571: Converting Node Type BatchNormalization\n",
            "402/571: Converting Node Type Relu\n",
            "403/571: Converting Node Type Conv\n",
            "404/571: Converting Node Type Concat\n",
            "405/571: Converting Node Type BatchNormalization\n",
            "406/571: Converting Node Type Relu\n",
            "407/571: Converting Node Type Conv\n",
            "408/571: Converting Node Type BatchNormalization\n",
            "409/571: Converting Node Type Relu\n",
            "410/571: Converting Node Type Conv\n",
            "411/571: Converting Node Type Concat\n",
            "412/571: Converting Node Type BatchNormalization\n",
            "413/571: Converting Node Type Relu\n",
            "414/571: Converting Node Type Conv\n",
            "415/571: Converting Node Type BatchNormalization\n",
            "416/571: Converting Node Type Relu\n",
            "417/571: Converting Node Type Conv\n",
            "418/571: Converting Node Type Concat\n",
            "419/571: Converting Node Type BatchNormalization\n",
            "420/571: Converting Node Type Relu\n",
            "421/571: Converting Node Type Conv\n",
            "422/571: Converting Node Type BatchNormalization\n",
            "423/571: Converting Node Type Relu\n",
            "424/571: Converting Node Type Conv\n",
            "425/571: Converting Node Type Concat\n",
            "426/571: Converting Node Type BatchNormalization\n",
            "427/571: Converting Node Type Relu\n",
            "428/571: Converting Node Type Conv\n",
            "429/571: Converting Node Type BatchNormalization\n",
            "430/571: Converting Node Type Relu\n",
            "431/571: Converting Node Type Conv\n",
            "432/571: Converting Node Type Concat\n",
            "433/571: Converting Node Type BatchNormalization\n",
            "434/571: Converting Node Type Relu\n",
            "435/571: Converting Node Type Conv\n",
            "436/571: Converting Node Type BatchNormalization\n",
            "437/571: Converting Node Type Relu\n",
            "438/571: Converting Node Type Conv\n",
            "439/571: Converting Node Type Concat\n",
            "440/571: Converting Node Type BatchNormalization\n",
            "441/571: Converting Node Type Relu\n",
            "442/571: Converting Node Type Conv\n",
            "443/571: Converting Node Type BatchNormalization\n",
            "444/571: Converting Node Type Relu\n",
            "445/571: Converting Node Type Conv\n",
            "446/571: Converting Node Type Concat\n",
            "447/571: Converting Node Type BatchNormalization\n",
            "448/571: Converting Node Type Relu\n",
            "449/571: Converting Node Type Conv\n",
            "450/571: Converting Node Type BatchNormalization\n",
            "451/571: Converting Node Type Relu\n",
            "452/571: Converting Node Type Conv\n",
            "453/571: Converting Node Type Concat\n",
            "454/571: Converting Node Type BatchNormalization\n",
            "455/571: Converting Node Type Relu\n",
            "456/571: Converting Node Type Conv\n",
            "457/571: Converting Node Type BatchNormalization\n",
            "458/571: Converting Node Type Relu\n",
            "459/571: Converting Node Type Conv\n",
            "460/571: Converting Node Type Concat\n",
            "461/571: Converting Node Type BatchNormalization\n",
            "462/571: Converting Node Type Relu\n",
            "463/571: Converting Node Type Conv\n",
            "464/571: Converting Node Type BatchNormalization\n",
            "465/571: Converting Node Type Relu\n",
            "466/571: Converting Node Type Conv\n",
            "467/571: Converting Node Type Concat\n",
            "468/571: Converting Node Type BatchNormalization\n",
            "469/571: Converting Node Type Relu\n",
            "470/571: Converting Node Type Conv\n",
            "471/571: Converting Node Type BatchNormalization\n",
            "472/571: Converting Node Type Relu\n",
            "473/571: Converting Node Type Conv\n",
            "474/571: Converting Node Type Concat\n",
            "475/571: Converting Node Type BatchNormalization\n",
            "476/571: Converting Node Type Relu\n",
            "477/571: Converting Node Type Conv\n",
            "478/571: Converting Node Type BatchNormalization\n",
            "479/571: Converting Node Type Relu\n",
            "480/571: Converting Node Type Conv\n",
            "481/571: Converting Node Type Concat\n",
            "482/571: Converting Node Type BatchNormalization\n",
            "483/571: Converting Node Type Relu\n",
            "484/571: Converting Node Type Conv\n",
            "485/571: Converting Node Type BatchNormalization\n",
            "486/571: Converting Node Type Relu\n",
            "487/571: Converting Node Type Conv\n",
            "488/571: Converting Node Type Concat\n",
            "489/571: Converting Node Type BatchNormalization\n",
            "490/571: Converting Node Type Relu\n",
            "491/571: Converting Node Type Conv\n",
            "492/571: Converting Node Type BatchNormalization\n",
            "493/571: Converting Node Type Relu\n",
            "494/571: Converting Node Type Conv\n",
            "495/571: Converting Node Type Concat\n",
            "496/571: Converting Node Type BatchNormalization\n",
            "497/571: Converting Node Type Relu\n",
            "498/571: Converting Node Type Conv\n",
            "499/571: Converting Node Type BatchNormalization\n",
            "500/571: Converting Node Type Relu\n",
            "501/571: Converting Node Type Conv\n",
            "502/571: Converting Node Type Concat\n",
            "503/571: Converting Node Type BatchNormalization\n",
            "504/571: Converting Node Type Relu\n",
            "505/571: Converting Node Type Conv\n",
            "506/571: Converting Node Type BatchNormalization\n",
            "507/571: Converting Node Type Relu\n",
            "508/571: Converting Node Type Conv\n",
            "509/571: Converting Node Type Concat\n",
            "510/571: Converting Node Type BatchNormalization\n",
            "511/571: Converting Node Type Relu\n",
            "512/571: Converting Node Type Conv\n",
            "513/571: Converting Node Type BatchNormalization\n",
            "514/571: Converting Node Type Relu\n",
            "515/571: Converting Node Type Conv\n",
            "516/571: Converting Node Type Concat\n",
            "517/571: Converting Node Type BatchNormalization\n",
            "518/571: Converting Node Type Relu\n",
            "519/571: Converting Node Type Conv\n",
            "520/571: Converting Node Type BatchNormalization\n",
            "521/571: Converting Node Type Relu\n",
            "522/571: Converting Node Type Conv\n",
            "523/571: Converting Node Type Concat\n",
            "524/571: Converting Node Type BatchNormalization\n",
            "525/571: Converting Node Type Relu\n",
            "526/571: Converting Node Type Conv\n",
            "527/571: Converting Node Type BatchNormalization\n",
            "528/571: Converting Node Type Relu\n",
            "529/571: Converting Node Type Conv\n",
            "530/571: Converting Node Type Concat\n",
            "531/571: Converting Node Type BatchNormalization\n",
            "532/571: Converting Node Type Relu\n",
            "533/571: Converting Node Type Conv\n",
            "534/571: Converting Node Type BatchNormalization\n",
            "535/571: Converting Node Type Relu\n",
            "536/571: Converting Node Type Conv\n",
            "537/571: Converting Node Type Concat\n",
            "538/571: Converting Node Type BatchNormalization\n",
            "539/571: Converting Node Type Relu\n",
            "540/571: Converting Node Type Conv\n",
            "541/571: Converting Node Type BatchNormalization\n",
            "542/571: Converting Node Type Relu\n",
            "543/571: Converting Node Type Conv\n",
            "544/571: Converting Node Type Concat\n",
            "545/571: Converting Node Type BatchNormalization\n",
            "546/571: Converting Node Type Relu\n",
            "547/571: Converting Node Type Conv\n",
            "548/571: Converting Node Type BatchNormalization\n",
            "549/571: Converting Node Type Relu\n",
            "550/571: Converting Node Type Conv\n",
            "551/571: Converting Node Type Concat\n",
            "552/571: Converting Node Type BatchNormalization\n",
            "553/571: Converting Node Type Relu\n",
            "554/571: Converting Node Type Conv\n",
            "555/571: Converting Node Type BatchNormalization\n",
            "556/571: Converting Node Type Relu\n",
            "557/571: Converting Node Type Conv\n",
            "558/571: Converting Node Type Concat\n",
            "559/571: Converting Node Type BatchNormalization\n",
            "560/571: Converting Node Type Relu\n",
            "561/571: Converting Node Type Conv\n",
            "562/571: Converting Node Type BatchNormalization\n",
            "563/571: Converting Node Type Relu\n",
            "564/571: Converting Node Type Conv\n",
            "565/571: Converting Node Type Concat\n",
            "566/571: Converting Node Type BatchNormalization\n",
            "567/571: Converting Node Type Relu\n",
            "568/571: Converting Node Type Pad\n",
            "569/571: Converting Node Type AveragePool\n",
            "570/571: Converting Node Type Reshape\n",
            "571/571: Converting Node Type Gemm\n",
            "Translation to CoreML spec completed. Now compiling the CoreML model.\n",
            "Model Compilation done.\n"
          ],
          "name": "stdout"
        }
      ]
    },
    {
      "metadata": {
        "id": "G8mbADvPPZ_h",
        "colab_type": "code",
        "colab": {}
      },
      "cell_type": "code",
      "source": [
        ""
      ],
      "execution_count": 0,
      "outputs": []
    }
  ]
}